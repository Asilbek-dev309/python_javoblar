{
  "cells": [
    {
      "cell_type": "markdown",
      "metadata": {
        "id": "view-in-github",
        "colab_type": "text"
      },
      "source": [
        "<a href=\"https://colab.research.google.com/github/Asilbek-dev309/python_javoblar/blob/main/Numpy_asoslar.ipynb\" target=\"_parent\"><img src=\"https://colab.research.google.com/assets/colab-badge.svg\" alt=\"Open In Colab\"/></a>"
      ]
    },
    {
      "cell_type": "code",
      "source": [
        "import numpy as np"
      ],
      "metadata": {
        "id": "k5qHcGaJuzpN"
      },
      "execution_count": null,
      "outputs": []
    },
    {
      "cell_type": "code",
      "source": [
        "data=[1,2,4,4.3,34]\n",
        "arr=np.array(data)"
      ],
      "metadata": {
        "id": "lr0jeMK9yPju"
      },
      "execution_count": null,
      "outputs": []
    },
    {
      "cell_type": "code",
      "source": [
        "data"
      ],
      "metadata": {
        "id": "Pu26KRjEyXC2",
        "outputId": "41b9fd91-6f65-4312-9952-018d80a53396",
        "colab": {
          "base_uri": "https://localhost:8080/"
        }
      },
      "execution_count": null,
      "outputs": [
        {
          "output_type": "execute_result",
          "data": {
            "text/plain": [
              "[1, 2, 4, 4.3, 34]"
            ]
          },
          "metadata": {},
          "execution_count": 12
        }
      ]
    },
    {
      "cell_type": "code",
      "source": [
        "arr"
      ],
      "metadata": {
        "id": "zb2FWl3cyY33",
        "outputId": "5e54a0b4-bba9-4282-8c66-e893cd45be90",
        "colab": {
          "base_uri": "https://localhost:8080/"
        }
      },
      "execution_count": null,
      "outputs": [
        {
          "output_type": "execute_result",
          "data": {
            "text/plain": [
              "array([ 1. ,  2. ,  4. ,  4.3, 34. ])"
            ]
          },
          "metadata": {},
          "execution_count": 13
        }
      ]
    },
    {
      "cell_type": "code",
      "source": [
        "data0=(5,55,78,3.3,45)\n",
        "arr0=np.array(data0)"
      ],
      "metadata": {
        "id": "MGRldCu5ybFu"
      },
      "execution_count": null,
      "outputs": []
    },
    {
      "cell_type": "code",
      "source": [
        "data0"
      ],
      "metadata": {
        "id": "WiXnik-ryrd9",
        "outputId": "59825f8f-5459-457e-b511-885b3e275445",
        "colab": {
          "base_uri": "https://localhost:8080/"
        }
      },
      "execution_count": null,
      "outputs": [
        {
          "output_type": "execute_result",
          "data": {
            "text/plain": [
              "(5, 55, 78, 3.3, 45)"
            ]
          },
          "metadata": {},
          "execution_count": 15
        }
      ]
    },
    {
      "cell_type": "code",
      "source": [
        "arr0"
      ],
      "metadata": {
        "id": "AfBTF5hYytD7",
        "outputId": "5701df7a-681c-46d6-dc17-4a7c8136b6b9",
        "colab": {
          "base_uri": "https://localhost:8080/"
        }
      },
      "execution_count": null,
      "outputs": [
        {
          "output_type": "execute_result",
          "data": {
            "text/plain": [
              "array([ 5. , 55. , 78. ,  3.3, 45. ])"
            ]
          },
          "metadata": {},
          "execution_count": 16
        }
      ]
    },
    {
      "cell_type": "code",
      "source": [
        "arr.ndim\n"
      ],
      "metadata": {
        "id": "sbCWqTkAyuOx",
        "outputId": "377caaad-55ae-45ce-a1a2-3f384346f0fc",
        "colab": {
          "base_uri": "https://localhost:8080/"
        }
      },
      "execution_count": null,
      "outputs": [
        {
          "output_type": "execute_result",
          "data": {
            "text/plain": [
              "1"
            ]
          },
          "metadata": {},
          "execution_count": 17
        }
      ]
    },
    {
      "cell_type": "code",
      "source": [
        "arr0.ndim"
      ],
      "metadata": {
        "id": "QHkS4Clhy826",
        "outputId": "c310908f-dbfb-4c9b-f0d6-7b04c43a987e",
        "colab": {
          "base_uri": "https://localhost:8080/"
        }
      },
      "execution_count": null,
      "outputs": [
        {
          "output_type": "execute_result",
          "data": {
            "text/plain": [
              "1"
            ]
          },
          "metadata": {},
          "execution_count": 18
        }
      ]
    },
    {
      "cell_type": "code",
      "source": [
        "data1 = [[1,2,3,4.4,4], [12,5,78,89,9],[12.4,4444,444,79,0.1]]\n",
        "arr1 = np.array(data1)"
      ],
      "metadata": {
        "id": "-Mb8LrTmy_Gb"
      },
      "execution_count": null,
      "outputs": []
    },
    {
      "cell_type": "code",
      "source": [
        "data1"
      ],
      "metadata": {
        "id": "-wCO-vY6zab6",
        "outputId": "768e779d-8207-418f-c1bd-2b35d667bfda",
        "colab": {
          "base_uri": "https://localhost:8080/"
        }
      },
      "execution_count": null,
      "outputs": [
        {
          "output_type": "execute_result",
          "data": {
            "text/plain": [
              "[[1, 2, 3, 4.4, 45], [12, 45, 78, 89, 90], [12.4, 4444, 444444, 789, 0.1]]"
            ]
          },
          "metadata": {},
          "execution_count": 31
        }
      ]
    },
    {
      "cell_type": "code",
      "source": [
        "arr1"
      ],
      "metadata": {
        "id": "Aj7Tz_qM0Nog",
        "outputId": "44ecb293-4efc-49e7-b233-76cd9173ea8b",
        "colab": {
          "base_uri": "https://localhost:8080/"
        }
      },
      "execution_count": null,
      "outputs": [
        {
          "output_type": "execute_result",
          "data": {
            "text/plain": [
              "array([[1.00000e+00, 2.00000e+00, 3.00000e+00, 4.40000e+00, 4.50000e+01],\n",
              "       [1.20000e+01, 4.50000e+01, 7.80000e+01, 8.90000e+01, 9.00000e+01],\n",
              "       [1.24000e+01, 4.44400e+03, 4.44444e+05, 7.89000e+02, 1.00000e-01]])"
            ]
          },
          "metadata": {},
          "execution_count": 33
        }
      ]
    },
    {
      "cell_type": "code",
      "source": [
        "data2=[[22,22,2.2,0.2],[23,4,78,11],[13,56,8,90]]\n",
        "arr2=np.array(data2)"
      ],
      "metadata": {
        "id": "mLKK__JY0cV5"
      },
      "execution_count": null,
      "outputs": []
    },
    {
      "cell_type": "code",
      "source": [
        "arr2.ndim"
      ],
      "metadata": {
        "id": "r7Pzglj71LVn",
        "outputId": "5af6f18a-6f94-4ddc-859f-a2492f559db9",
        "colab": {
          "base_uri": "https://localhost:8080/"
        }
      },
      "execution_count": null,
      "outputs": [
        {
          "output_type": "execute_result",
          "data": {
            "text/plain": [
              "2"
            ]
          },
          "metadata": {},
          "execution_count": 35
        }
      ]
    },
    {
      "cell_type": "code",
      "source": [
        "arr2.shape"
      ],
      "metadata": {
        "id": "qEV3ZgP71Npx",
        "outputId": "ebd3779b-ffa7-449b-f83b-ddd4fbf0f7f7",
        "colab": {
          "base_uri": "https://localhost:8080/"
        }
      },
      "execution_count": null,
      "outputs": [
        {
          "output_type": "execute_result",
          "data": {
            "text/plain": [
              "(3, 4)"
            ]
          },
          "metadata": {},
          "execution_count": 41
        }
      ]
    },
    {
      "cell_type": "code",
      "source": [
        "arr2.size"
      ],
      "metadata": {
        "id": "jHcwjG701jjc",
        "outputId": "91d925eb-7d54-4dad-fd7f-9a72ffb83ecb",
        "colab": {
          "base_uri": "https://localhost:8080/"
        }
      },
      "execution_count": null,
      "outputs": [
        {
          "output_type": "execute_result",
          "data": {
            "text/plain": [
              "12"
            ]
          },
          "metadata": {},
          "execution_count": 42
        }
      ]
    },
    {
      "cell_type": "code",
      "source": [
        "arr3=np.zeros(shape=(2,5))\n",
        "arr3"
      ],
      "metadata": {
        "id": "ch8RiQQl2Oib",
        "outputId": "82be1732-0c31-493a-a9e6-b63f3dbc94c2",
        "colab": {
          "base_uri": "https://localhost:8080/"
        }
      },
      "execution_count": null,
      "outputs": [
        {
          "output_type": "execute_result",
          "data": {
            "text/plain": [
              "array([[0., 0., 0., 0., 0.],\n",
              "       [0., 0., 0., 0., 0.]])"
            ]
          },
          "metadata": {},
          "execution_count": 43
        }
      ]
    },
    {
      "cell_type": "code",
      "source": [
        "arr4=np.ones((2,7))\n",
        "arr4"
      ],
      "metadata": {
        "id": "pfnuSBkO26ru",
        "outputId": "6c144ded-d533-4d71-c719-d9e3e1a9b197",
        "colab": {
          "base_uri": "https://localhost:8080/"
        }
      },
      "execution_count": null,
      "outputs": [
        {
          "output_type": "execute_result",
          "data": {
            "text/plain": [
              "array([[1., 1., 1., 1., 1., 1., 1.],\n",
              "       [1., 1., 1., 1., 1., 1., 1.]])"
            ]
          },
          "metadata": {},
          "execution_count": 45
        }
      ]
    },
    {
      "cell_type": "code",
      "source": [
        "arr5=np.arange(23,56,2)\n",
        "arr5"
      ],
      "metadata": {
        "id": "GQ3GKyGK3V6s",
        "outputId": "ac867d73-addd-48c8-86df-084d97246bf5",
        "colab": {
          "base_uri": "https://localhost:8080/"
        }
      },
      "execution_count": null,
      "outputs": [
        {
          "output_type": "execute_result",
          "data": {
            "text/plain": [
              "array([23, 25, 27, 29, 31, 33, 35, 37, 39, 41, 43, 45, 47, 49, 51, 53, 55])"
            ]
          },
          "metadata": {},
          "execution_count": 46
        }
      ]
    },
    {
      "cell_type": "code",
      "source": [
        "arr6=np.arange(23)\n",
        "arr6"
      ],
      "metadata": {
        "id": "eWRp5KYR3yIz",
        "outputId": "1e573755-ce60-4e73-999a-6c0331a7f5ea",
        "colab": {
          "base_uri": "https://localhost:8080/"
        }
      },
      "execution_count": null,
      "outputs": [
        {
          "output_type": "execute_result",
          "data": {
            "text/plain": [
              "array([ 0,  1,  2,  3,  4,  5,  6,  7,  8,  9, 10, 11, 12, 13, 14, 15, 16,\n",
              "       17, 18, 19, 20, 21, 22])"
            ]
          },
          "metadata": {},
          "execution_count": 48
        }
      ]
    },
    {
      "cell_type": "code",
      "source": [],
      "metadata": {
        "id": "ZIeb6lec34YO"
      },
      "execution_count": null,
      "outputs": []
    }
  ],
  "metadata": {
    "colab": {
      "provenance": [],
      "include_colab_link": true
    },
    "kernelspec": {
      "display_name": "Python 3",
      "name": "python3"
    }
  },
  "nbformat": 4,
  "nbformat_minor": 0
}